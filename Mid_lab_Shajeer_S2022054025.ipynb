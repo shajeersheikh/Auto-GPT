{
  "nbformat": 4,
  "nbformat_minor": 0,
  "metadata": {
    "colab": {
      "provenance": [],
      "authorship_tag": "ABX9TyOrL/xuF3xdU30WR06tUqi1",
      "include_colab_link": true
    },
    "kernelspec": {
      "name": "python3",
      "display_name": "Python 3"
    },
    "language_info": {
      "name": "python"
    }
  },
  "cells": [
    {
      "cell_type": "markdown",
      "metadata": {
        "id": "view-in-github",
        "colab_type": "text"
      },
      "source": [
        "<a href=\"https://colab.research.google.com/github/shajeersheikh/Auto-GPT/blob/master/Mid_lab_Shajeer_S2022054025.ipynb\" target=\"_parent\"><img src=\"https://colab.research.google.com/assets/colab-badge.svg\" alt=\"Open In Colab\"/></a>"
      ]
    },
    {
      "cell_type": "markdown",
      "source": [
        "Shajeer S2022054025 - Project\n",
        "\n",
        "Welcome to my Mid Lab Story Generator - Chess-Inspired\n",
        " Story Generator"
      ],
      "metadata": {
        "id": "57UtGbB1H9Pf"
      }
    },
    {
      "cell_type": "code",
      "source": [
        "\n",
        "# Gather user input"
      ],
      "metadata": {
        "id": "CYqKcWdmJ6pJ"
      },
      "execution_count": null,
      "outputs": []
    },
    {
      "cell_type": "code",
      "source": [
        "chess_piece = input('Choose a chess piece: ')  # User chooses a chess piece (it's a noun)."
      ],
      "metadata": {
        "id": "JHVZgVdMKMyJ"
      },
      "execution_count": null,
      "outputs": []
    },
    {
      "cell_type": "code",
      "source": [
        "chess_players = input('Choose a chess player: ')  # User chooses a chess player name (it's a proper noun)."
      ],
      "metadata": {
        "id": "IoytzTiwKRVe"
      },
      "execution_count": null,
      "outputs": []
    },
    {
      "cell_type": "code",
      "source": [
        "chess_strategy = input('Choose a chess strategy: ')  # User chooses a chess strategy like playing the English opening (it's an adjective)."
      ],
      "metadata": {
        "id": "6trf-YtHKVK5"
      },
      "execution_count": null,
      "outputs": []
    },
    {
      "cell_type": "code",
      "source": [
        "chechessss_location = input('Name a chess location: ')  # User names a chess location where the match took place (it's a place)."
      ],
      "metadata": {
        "id": "vkgVn6fZKYIT"
      },
      "execution_count": null,
      "outputs": []
    },
    {
      "cell_type": "code",
      "source": [
        "chess_style = input('Choose a chess style (Describing word like Defensive style of playing): ')  # User chooses a chess style aggressive, defensive,offensive,building the pieces(it's a noun)."
      ],
      "metadata": {
        "id": "TsasTuUPKcle"
      },
      "execution_count": null,
      "outputs": []
    },
    {
      "cell_type": "code",
      "source": [
        "chess_move = input('Choose a chess move: ')  # User specifies a chess move (it's an action)."
      ],
      "metadata": {
        "id": "5V25xYR1Kq42"
      },
      "execution_count": null,
      "outputs": []
    },
    {
      "cell_type": "code",
      "source": [
        "\n",
        "# Print the customized chess match story"
      ],
      "metadata": {
        "id": "9oEz9w95K0cg"
      },
      "execution_count": null,
      "outputs": []
    },
    {
      "cell_type": "code",
      "source": [
        "print('------------------------------------------')"
      ],
      "metadata": {
        "id": "zzGHKGrZK6Ua"
      },
      "execution_count": null,
      "outputs": []
    },
    {
      "cell_type": "code",
      "source": [
        "# Introduce the chess match story\n",
        "print('Witness the epic chess battle involving ' + chess_players + '\\'s ' + chess_piepiecece)"
      ],
      "metadata": {
        "id": "fzgUD-wIK9ML"
      },
      "execution_count": null,
      "outputs": []
    },
    {
      "cell_type": "code",
      "source": [
        "print('Where ' + chess_players + ' strategically deploys ' + chess_piece + 's with ' + chess_strategy + ' precision')"
      ],
      "metadata": {
        "id": "Co-HtKzaLC2t"
      },
      "execution_count": null,
      "outputs": []
    },
    {
      "cell_type": "code",
      "source": [
        "print('Engage in the legendary chess match set in ' + chess_location)"
      ],
      "metadata": {
        "id": "2NxVojU5LD4k"
      },
      "execution_count": null,
      "outputs": []
    },
    {
      "cell_type": "code",
      "source": [
        "print('Immerse yourself in the ' + chess_style + ' atmosphere of grandmaster moves. \\n')"
      ],
      "metadata": {
        "id": "ejUCqg_6LH8W"
      },
      "execution_count": null,
      "outputs": []
    },
    {
      "cell_type": "code",
      "source": [
        "print('As the game unfolds, observe the strategic brilliance of ' + chess_players)"
      ],
      "metadata": {
        "id": "PYF1VpzgLLwr"
      },
      "execution_count": null,
      "outputs": []
    },
    {
      "cell_type": "code",
      "source": [
        "print('Analyzing each move, you may ponder if ' + chess_move + ' is the key to victory,')"
      ],
      "metadata": {
        "id": "ejEOXdZXLQcn"
      },
      "execution_count": null,
      "outputs": []
    },
    {
      "cell_type": "code",
      "source": [
        "print('Drawing parallels to iconic matches like Garry Kasparov vs IBM.')"
      ],
      "metadata": {
        "id": "nVNJfywoLbkW"
      },
      "execution_count": null,
      "outputs": []
    },
    {
      "cell_type": "code",
      "source": [
        "\n",
        "story = (\n",
        "    '------------------------------------------\\n'\n",
        "    'Witness the epic chess battle involving ' + chess_players + '\\'s ' + chess_piece + '\\n'\n",
        "    'Where ' + chess_players + ' strategically deploys ' + chess_piece + 's with ' + chess_strategy + ' precision\\n'\n",
        "    'Engage in the legendary chess match set in ' + chess_location + '\\n'\n",
        "    'Immerse yourself in the ' + chess_style + ' atmosphere of grandmaster moves.\\n\\n'\n",
        "    'As the game unfolds, observe the strategic brilliance of ' + chess_players + '\\n'\n",
        "    'Analyzing each move, you may ponder if ' + chess_move + ' is the key to victory,\\n'\n",
        "    'Drawing parallels to iconic matches like Garry Kasparov vs IBM.\\n'\n",
        "    '------------------------------------------'\n",
        ")\n",
        "\n",
        "# Print the whole story\n",
        "print(story)"
      ],
      "metadata": {
        "id": "8-PnG6S6MbVK"
      },
      "execution_count": null,
      "outputs": []
    }
  ]
}